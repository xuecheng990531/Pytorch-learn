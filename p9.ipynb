{
 "cells": [
  {
   "cell_type": "code",
   "execution_count": 2,
   "source": [
    "from torchvision import transforms\n",
    "from PIL import Image"
   ],
   "outputs": [],
   "metadata": {}
  },
  {
   "cell_type": "code",
   "execution_count": 3,
   "source": [
    "img_path='/Users/lixuecheng/Desktop/Python/pytorch/Dataset/练手数据集/train/ants_image/67270775_e9fdf77e9d.jpg'\n",
    "image=Image.open(img_path)\n",
    "type(image)# 可以看到image是PIL类型的"
   ],
   "outputs": [
    {
     "output_type": "execute_result",
     "data": {
      "text/plain": [
       "PIL.JpegImagePlugin.JpegImageFile"
      ]
     },
     "metadata": {},
     "execution_count": 3
    }
   ],
   "metadata": {}
  },
  {
   "cell_type": "markdown",
   "source": [
    "## 使用transforms将PIL类型的数据转换成Tensor格式"
   ],
   "metadata": {}
  },
  {
   "cell_type": "code",
   "execution_count": 7,
   "source": [
    "tensor_trans=transforms.ToTensor()\n",
    "img_tensor=tensor_trans(image)\n",
    "print(type(img_tensor))# 可以看到我们原先的PIL格式的照片转换为tensor格式的照片"
   ],
   "outputs": [
    {
     "output_type": "stream",
     "name": "stdout",
     "text": [
      "<class 'torch.Tensor'>\n"
     ]
    }
   ],
   "metadata": {}
  }
 ],
 "metadata": {
  "orig_nbformat": 4,
  "language_info": {
   "name": "python",
   "version": "3.9.6",
   "mimetype": "text/x-python",
   "codemirror_mode": {
    "name": "ipython",
    "version": 3
   },
   "pygments_lexer": "ipython3",
   "nbconvert_exporter": "python",
   "file_extension": ".py"
  },
  "kernelspec": {
   "name": "python3",
   "display_name": "Python 3.9.6 64-bit ('miniforge3': conda)"
  },
  "interpreter": {
   "hash": "5f56490164663f4b57b37b92c4ec3e50e458ccd27b9658dd2290a539caaefaaa"
  }
 },
 "nbformat": 4,
 "nbformat_minor": 2
}