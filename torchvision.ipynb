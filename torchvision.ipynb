{
 "cells": [
  {
   "cell_type": "code",
   "execution_count": 1,
   "source": [
    "import torchvision\n",
    "import matplotlib.pyplot as plt\n",
    "import imutils\n",
    "from PIL import Image\n",
    "from torch.utils.tensorboard import SummaryWriter"
   ],
   "outputs": [],
   "metadata": {}
  },
  {
   "cell_type": "markdown",
   "source": [
    "# 使用transform进行数据预处理"
   ],
   "metadata": {}
  },
  {
   "cell_type": "code",
   "execution_count": 2,
   "source": [
    "# 对传输的数据转换成tensor格式\n",
    "dataset_transform=torchvision.transforms.Compose([\n",
    "    torchvision.transforms.ToTensor()\n",
    "])"
   ],
   "outputs": [],
   "metadata": {}
  },
  {
   "cell_type": "markdown",
   "source": [
    "# torchvision进行数据获取"
   ],
   "metadata": {}
  },
  {
   "cell_type": "code",
   "execution_count": 3,
   "source": [
    "train_set=torchvision.datasets.CIFAR10(\n",
    "    root='/Users/lixuecheng/Desktop/Python/Pytorch learning/Dataset',\n",
    "    train=True,download=True,transform=dataset_transform\n",
    ")\n",
    "\n",
    "test_set=torchvision.datasets.CIFAR10(\n",
    "    root='/Users/lixuecheng/Desktop/Python/Pytorch learning/Dataset',\n",
    "    train=False,download=True,transform=dataset_transform\n",
    ")"
   ],
   "outputs": [
    {
     "output_type": "stream",
     "name": "stdout",
     "text": [
      "Files already downloaded and verified\n",
      "Files already downloaded and verified\n"
     ]
    }
   ],
   "metadata": {}
  },
  {
   "cell_type": "code",
   "execution_count": 4,
   "source": [
    "image,target=train_set[1010]"
   ],
   "outputs": [],
   "metadata": {}
  },
  {
   "cell_type": "code",
   "execution_count": 5,
   "source": [
    "# 使用totensor进行转换成tensor格式\n",
    "writer=SummaryWriter('cifar10')\n",
    "\n",
    "for i in range(10):\n",
    "    img,target=test_set[i]\n",
    "    writer.add_image('test_set',img,i)\n",
    "writer.close()"
   ],
   "outputs": [
    {
     "output_type": "stream",
     "name": "stdout",
     "text": [
      "Init Plugin\n",
      "Init Graph Optimizer\n",
      "Init Kernel\n"
     ]
    }
   ],
   "metadata": {}
  }
 ],
 "metadata": {
  "orig_nbformat": 4,
  "language_info": {
   "name": "python",
   "version": "3.9.6",
   "mimetype": "text/x-python",
   "codemirror_mode": {
    "name": "ipython",
    "version": 3
   },
   "pygments_lexer": "ipython3",
   "nbconvert_exporter": "python",
   "file_extension": ".py"
  },
  "kernelspec": {
   "name": "python3",
   "display_name": "Python 3.9.6 64-bit ('miniforge3': conda)"
  },
  "interpreter": {
   "hash": "5f56490164663f4b57b37b92c4ec3e50e458ccd27b9658dd2290a539caaefaaa"
  }
 },
 "nbformat": 4,
 "nbformat_minor": 2
}