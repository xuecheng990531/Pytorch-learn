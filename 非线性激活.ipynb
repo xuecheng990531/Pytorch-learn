{
 "cells": [
  {
   "cell_type": "code",
   "execution_count": 31,
   "source": [
    "import torch\n",
    "from torch.utils.data import DataLoader\n",
    "from torch.utils.tensorboard import SummaryWriter\n",
    "import torch.nn as nn\n",
    "import torch.nn.functional as f\n",
    "import torchvision"
   ],
   "outputs": [],
   "metadata": {}
  },
  {
   "cell_type": "code",
   "execution_count": 32,
   "source": [
    "dataset=torchvision.datasets.CIFAR10(\n",
    "    root='/Users/lixuecheng/Desktop/Pytorch learning copy/Dataset',\n",
    "    train=False,transform=torchvision.transforms.ToTensor(),download=True\n",
    ")"
   ],
   "outputs": [
    {
     "output_type": "stream",
     "name": "stdout",
     "text": [
      "Files already downloaded and verified\n"
     ]
    }
   ],
   "metadata": {}
  },
  {
   "cell_type": "code",
   "execution_count": 33,
   "source": [
    "dataloader=DataLoader(dataset=dataset,batch_size=64)"
   ],
   "outputs": [],
   "metadata": {}
  },
  {
   "cell_type": "code",
   "execution_count": 34,
   "source": [
    "class Nonliner(nn.Module):\n",
    "    def __init__(self):\n",
    "        super(Nonliner,self).__init__()\n",
    "        # inplace=True的话input的值会直接更改成output,False的话不会出现这种情况，input还是自己本身，output会输出新的值\n",
    "        self.activation1=nn.ReLU(inplace=False)\n",
    "    \n",
    "    def forward(self,input):\n",
    "        output=self.activation1(input)\n",
    "\n",
    "        return output"
   ],
   "outputs": [],
   "metadata": {}
  },
  {
   "cell_type": "code",
   "execution_count": 35,
   "source": [
    "writer=SummaryWriter('relu_logs')\n",
    "tudou=Nonliner()"
   ],
   "outputs": [],
   "metadata": {}
  },
  {
   "cell_type": "code",
   "execution_count": 36,
   "source": [
    "step=0\n",
    "for i in dataloader:\n",
    "    images,targets=i\n",
    "    writer.add_images('input_relu',images,step)\n",
    "    output=tudou(images)\n",
    "    writer.add_images('output_relu',output,step)\n",
    "\n",
    "writer.close()"
   ],
   "outputs": [],
   "metadata": {}
  }
 ],
 "metadata": {
  "orig_nbformat": 4,
  "language_info": {
   "name": "python",
   "version": "3.9.6",
   "mimetype": "text/x-python",
   "codemirror_mode": {
    "name": "ipython",
    "version": 3
   },
   "pygments_lexer": "ipython3",
   "nbconvert_exporter": "python",
   "file_extension": ".py"
  },
  "kernelspec": {
   "name": "python3",
   "display_name": "Python 3.9.6 64-bit ('miniforge3': conda)"
  },
  "interpreter": {
   "hash": "5f56490164663f4b57b37b92c4ec3e50e458ccd27b9658dd2290a539caaefaaa"
  }
 },
 "nbformat": 4,
 "nbformat_minor": 2
}