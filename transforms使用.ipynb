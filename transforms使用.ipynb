{
 "cells": [
  {
   "cell_type": "code",
   "execution_count": 49,
   "source": [
    "from torchvision import transforms\n",
    "from torch.utils.tensorboard import SummaryWriter\n",
    "from PIL import Image"
   ],
   "outputs": [],
   "metadata": {}
  },
  {
   "cell_type": "code",
   "execution_count": 50,
   "source": [
    "image=Image.open('/Users/lixuecheng/Desktop/Python/Pytorch learning/Dataset/练手数据集/train/ants_image/6240329_72c01e663e.jpg')\n",
    "print(image)"
   ],
   "outputs": [
    {
     "output_type": "stream",
     "name": "stdout",
     "text": [
      "<PIL.JpegImagePlugin.JpegImageFile image mode=RGB size=500x369 at 0x17D2E9430>\n"
     ]
    }
   ],
   "metadata": {}
  },
  {
   "cell_type": "markdown",
   "source": [
    "## totensor()"
   ],
   "metadata": {}
  },
  {
   "cell_type": "code",
   "execution_count": 51,
   "source": [
    "img_tensor=transforms.ToTensor()\n",
    "img_to_tensor=img_tensor(image)\n",
    "print(img_to_tensor.shape)"
   ],
   "outputs": [
    {
     "output_type": "stream",
     "name": "stdout",
     "text": [
      "torch.Size([3, 369, 500])\n"
     ]
    }
   ],
   "metadata": {}
  },
  {
   "cell_type": "markdown",
   "source": [
    "## normalization()"
   ],
   "metadata": {}
  },
  {
   "cell_type": "code",
   "execution_count": 52,
   "source": [
    "print(img_to_tensor[0][0][0])\n",
    "trans_norm=transforms.Normalize([0.5,0.5,0.5],[0.5,0.5,0.5])\n",
    "img_norm=trans_norm(img_to_tensor)\n",
    "print(img_norm[0][0][0])\n",
    "# 开启tensorboard会话\n",
    "writer=SummaryWriter('logs')\n",
    "writer.add_image('img_to_tensor',img_to_tensor,1)\n",
    "writer.add_image('img_norm',img_norm,2)\n",
    "writer.close()"
   ],
   "outputs": [
    {
     "output_type": "stream",
     "name": "stdout",
     "text": [
      "tensor(0.3725)\n",
      "tensor(-0.2549)\n"
     ]
    }
   ],
   "metadata": {}
  },
  {
   "cell_type": "markdown",
   "source": [
    "## resize()等比缩放"
   ],
   "metadata": {}
  },
  {
   "cell_type": "code",
   "execution_count": 53,
   "source": [
    "trans_resize=transforms.Resize((512,512))\n",
    "img_resize=trans_resize(img_to_tensor)\n",
    "print(img_resize.shape)"
   ],
   "outputs": [
    {
     "output_type": "stream",
     "name": "stdout",
     "text": [
      "torch.Size([3, 512, 512])\n"
     ]
    }
   ],
   "metadata": {}
  },
  {
   "cell_type": "markdown",
   "source": [
    "## compose()随机操作\n",
    "<br>\n",
    "\n",
    "## compose()参数需要列表进行表示，在compose需要使用transforms参数一。。。。。"
   ],
   "metadata": {}
  },
  {
   "cell_type": "code",
   "execution_count": 54,
   "source": [
    "trans_resize2=transforms.Resize(512)\n",
    "trans_compose=transforms.Compose([trans_resize2,img_tensor])\n",
    "img_resize2=trans_compose(image)\n",
    "writer.add_image('compose',img_resize2,1)\n",
    "writer.close()"
   ],
   "outputs": [],
   "metadata": {}
  },
  {
   "cell_type": "markdown",
   "source": [
    "## 随机裁剪"
   ],
   "metadata": {}
  },
  {
   "cell_type": "code",
   "execution_count": 55,
   "source": [
    "trans_crop=transforms.RandomCrop(256)\n",
    "trans_compose_2=transforms.Compose([trans_crop,img_tensor])\n",
    "for i in range(10):\n",
    "    img_crop=trans_compose_2(image)\n",
    "    writer.add_image('crop',img_crop,i)\n"
   ],
   "outputs": [],
   "metadata": {}
  }
 ],
 "metadata": {
  "orig_nbformat": 4,
  "language_info": {
   "name": "python",
   "version": "3.9.6",
   "mimetype": "text/x-python",
   "codemirror_mode": {
    "name": "ipython",
    "version": 3
   },
   "pygments_lexer": "ipython3",
   "nbconvert_exporter": "python",
   "file_extension": ".py"
  },
  "kernelspec": {
   "name": "python3",
   "display_name": "Python 3.9.6 64-bit ('miniforge3': conda)"
  },
  "interpreter": {
   "hash": "5f56490164663f4b57b37b92c4ec3e50e458ccd27b9658dd2290a539caaefaaa"
  }
 },
 "nbformat": 4,
 "nbformat_minor": 2
}