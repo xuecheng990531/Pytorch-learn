{
 "cells": [
  {
   "cell_type": "code",
   "execution_count": 1,
   "source": [
    "import torchvision\n",
    "import torch\n",
    "from torch.utils.data import DataLoader\n",
    "from torch import nn\n",
    "from torch.nn import Conv2d,MaxPool2d,Flatten,Linear\n",
    "from torch.utils.tensorboard import SummaryWriter"
   ],
   "outputs": [],
   "metadata": {}
  },
  {
   "cell_type": "markdown",
   "source": [
    "# 准备数据集"
   ],
   "metadata": {}
  },
  {
   "cell_type": "code",
   "execution_count": 2,
   "source": [
    "train_data=torchvision.datasets.CIFAR10(\n",
    "    root='/Users/lixuecheng/Desktop/Pytorch learning copy/Dataset',train=True,\n",
    "    transform=torchvision.transforms.ToTensor(),download=True\n",
    ")"
   ],
   "outputs": [
    {
     "output_type": "stream",
     "name": "stdout",
     "text": [
      "Files already downloaded and verified\n"
     ]
    }
   ],
   "metadata": {}
  },
  {
   "cell_type": "code",
   "execution_count": 3,
   "source": [
    "test_data=torchvision.datasets.CIFAR10(\n",
    "    root='/Users/lixuecheng/Desktop/Pytorch learning copy/Dataset',train=False,\n",
    "    transform=torchvision.transforms.ToTensor(),download=True\n",
    ")"
   ],
   "outputs": [
    {
     "output_type": "stream",
     "name": "stdout",
     "text": [
      "Files already downloaded and verified\n"
     ]
    }
   ],
   "metadata": {}
  },
  {
   "cell_type": "code",
   "execution_count": 4,
   "source": [
    "# 获取训练集的长度\n",
    "train_data_size=len(train_data)\n",
    "\n",
    "# 获取测试集的长度\n",
    "test_data_size=len(test_data)\n",
    "\n",
    "print('训练集的长度是:{}'.format(train_data_size))\n",
    "print('测试集的长度是:{}'.format(test_data_size))"
   ],
   "outputs": [
    {
     "output_type": "stream",
     "name": "stdout",
     "text": [
      "训练集的长度是:50000\n",
      "测试集的长度是:10000\n"
     ]
    }
   ],
   "metadata": {}
  },
  {
   "cell_type": "markdown",
   "source": [
    "# Dataloader"
   ],
   "metadata": {}
  },
  {
   "cell_type": "code",
   "execution_count": 5,
   "source": [
    "train_dataloader=DataLoader(train_data,batch_size=64)\n",
    "test_dataloader=DataLoader(test_data,batch_size=64)"
   ],
   "outputs": [],
   "metadata": {}
  },
  {
   "cell_type": "markdown",
   "source": [
    "# 导入Mymodel.py中的模型"
   ],
   "metadata": {}
  },
  {
   "cell_type": "code",
   "execution_count": 6,
   "source": [
    "from Mymodel import *\n",
    "tudou=Mymodel()"
   ],
   "outputs": [],
   "metadata": {}
  },
  {
   "cell_type": "markdown",
   "source": [
    "# 损失函数"
   ],
   "metadata": {}
  },
  {
   "cell_type": "code",
   "execution_count": 7,
   "source": [
    "loss_fn=nn.CrossEntropyLoss()"
   ],
   "outputs": [],
   "metadata": {}
  },
  {
   "cell_type": "markdown",
   "source": [
    "# 优化器"
   ],
   "metadata": {}
  },
  {
   "cell_type": "code",
   "execution_count": 8,
   "source": [
    "optim=torch.optim.SGD(tudou.parameters(),lr=0.01)"
   ],
   "outputs": [],
   "metadata": {}
  },
  {
   "cell_type": "markdown",
   "source": [
    "# 网络训练"
   ],
   "metadata": {}
  },
  {
   "cell_type": "code",
   "execution_count": 10,
   "source": [
    "writer=SummaryWriter('cifar_model')\n",
    "\n",
    "# 定义训练的步数\n",
    "total_train_step=0\n",
    "\n",
    "# 记录测试的次数\n",
    "total_test_step=0\n",
    "\n",
    "# 训练轮数\n",
    "epoch=5\n",
    "\n",
    "\n",
    "for i in range(epoch):\n",
    "    print('---------------第 {} 轮训练开始---------------'.format(i+1))\n",
    "\n",
    "    # 训练步骤开始\n",
    "    for data in train_dataloader:\n",
    "        images,targets=data\n",
    "        output=tudou(images)\n",
    "\n",
    "        loss=loss_fn(output,targets)\n",
    "\n",
    "        # 优化器优化模型\n",
    "        optim.zero_grad()\n",
    "        loss.backward()\n",
    "        optim.step()\n",
    "\n",
    "        total_train_step=total_train_step+1\n",
    "        accuracy=(output.argmax(1)==targets).sum()\n",
    "        total_accuracy=0\n",
    "        total_accuracy=int(total_accuracy+accuracy)\n",
    "\n",
    "        print('训练次数: {} ,Loss: {}'.format(total_train_step,loss))\n",
    "        print('训练的准确率:{}'.format(total_accuracy/train_data_size))\n",
    "        \n",
    "        writer.add_scalar('train_loss',loss,total_train_step)\n",
    "    \n",
    "\n",
    "    # 训练集跑完一遍，我们去测试集上看看效果\n",
    "    total_loss=0\n",
    "    # 表明没有了梯度\n",
    "    with torch.no_grad():\n",
    "        for data in test_dataloader:\n",
    "            images,targets=data\n",
    "\n",
    "            output=tudou(images)\n",
    "\n",
    "            loss=loss_fn(output,targets)\n",
    "\n",
    "            total_loss=total_loss+loss\n",
    "\n",
    "    print('整体测试集上的loss {} :'.format(total_loss))\n",
    "    writer.add_scalar('test_loss',total_loss,total_test_step)\n",
    "    total_test_step=total_test_step+1\n",
    "writer.close()\n",
    "\n",
    "\n"
   ],
   "outputs": [
    {
     "output_type": "stream",
     "name": "stdout",
     "text": [
      "---------------第 1 轮训练开始---------------\n",
      "训练次数: 1 ,Loss: 2.304311513900757\n",
      "训练的准确率:0.00018\n",
      "训练次数: 2 ,Loss: 2.311450242996216\n",
      "训练的准确率:0.0001\n",
      "训练次数: 3 ,Loss: 2.300103187561035\n",
      "训练的准确率:0.00012\n",
      "训练次数: 4 ,Loss: 2.31121826171875\n",
      "训练的准确率:0.00014\n",
      "训练次数: 5 ,Loss: 2.3085553646087646\n",
      "训练的准确率:0.0001\n",
      "训练次数: 6 ,Loss: 2.3093669414520264\n",
      "训练的准确率:0.00014\n",
      "训练次数: 7 ,Loss: 2.308384895324707\n",
      "训练的准确率:0.0001\n",
      "训练次数: 8 ,Loss: 2.2969937324523926\n",
      "训练的准确率:8e-05\n",
      "训练次数: 9 ,Loss: 2.304415225982666\n",
      "训练的准确率:8e-05\n",
      "训练次数: 10 ,Loss: 2.30061411857605\n",
      "训练的准确率:0.00016\n",
      "训练次数: 11 ,Loss: 2.3238635063171387\n",
      "训练的准确率:0.0001\n",
      "训练次数: 12 ,Loss: 2.3115196228027344\n",
      "训练的准确率:0.0001\n",
      "训练次数: 13 ,Loss: 2.299663782119751\n",
      "训练的准确率:0.0002\n",
      "训练次数: 14 ,Loss: 2.2923200130462646\n",
      "训练的准确率:0.00014\n",
      "训练次数: 15 ,Loss: 2.315927028656006\n",
      "训练的准确率:0.0001\n",
      "训练次数: 16 ,Loss: 2.2995200157165527\n",
      "训练的准确率:0.00014\n",
      "训练次数: 17 ,Loss: 2.3095364570617676\n",
      "训练的准确率:0.0002\n",
      "训练次数: 18 ,Loss: 2.299163579940796\n",
      "训练的准确率:0.00022\n",
      "训练次数: 19 ,Loss: 2.316211700439453\n",
      "训练的准确率:0.00012\n",
      "训练次数: 20 ,Loss: 2.318340301513672\n",
      "训练的准确率:0.0001\n",
      "训练次数: 21 ,Loss: 2.29502272605896\n",
      "训练的准确率:0.00016\n",
      "训练次数: 22 ,Loss: 2.29634165763855\n",
      "训练的准确率:0.00018\n",
      "训练次数: 23 ,Loss: 2.3026647567749023\n",
      "训练的准确率:0.00014\n",
      "训练次数: 24 ,Loss: 2.2957117557525635\n",
      "训练的准确率:0.00018\n",
      "训练次数: 25 ,Loss: 2.3022992610931396\n",
      "训练的准确率:0.00018\n",
      "训练次数: 26 ,Loss: 2.3082869052886963\n",
      "训练的准确率:0.00014\n",
      "训练次数: 27 ,Loss: 2.291757106781006\n",
      "训练的准确率:0.00018\n",
      "训练次数: 28 ,Loss: 2.3050804138183594\n",
      "训练的准确率:0.0002\n",
      "训练次数: 29 ,Loss: 2.3028368949890137\n",
      "训练的准确率:0.0002\n",
      "训练次数: 30 ,Loss: 2.3017234802246094\n",
      "训练的准确率:0.00016\n",
      "训练次数: 31 ,Loss: 2.300131320953369\n",
      "训练的准确率:0.00022\n",
      "训练次数: 32 ,Loss: 2.3031556606292725\n",
      "训练的准确率:0.0001\n",
      "训练次数: 33 ,Loss: 2.2969136238098145\n",
      "训练的准确率:0.00022\n",
      "训练次数: 34 ,Loss: 2.297928810119629\n",
      "训练的准确率:0.00018\n",
      "训练次数: 35 ,Loss: 2.303828477859497\n",
      "训练的准确率:0.00012\n",
      "训练次数: 36 ,Loss: 2.3099613189697266\n",
      "训练的准确率:8e-05\n",
      "训练次数: 37 ,Loss: 2.3007166385650635\n",
      "训练的准确率:0.00016\n",
      "训练次数: 38 ,Loss: 2.2914645671844482\n",
      "训练的准确率:0.00024\n",
      "训练次数: 39 ,Loss: 2.2913413047790527\n",
      "训练的准确率:0.00016\n",
      "训练次数: 40 ,Loss: 2.3100059032440186\n",
      "训练的准确率:0.00016\n",
      "训练次数: 41 ,Loss: 2.2999088764190674\n",
      "训练的准确率:0.00018\n",
      "训练次数: 42 ,Loss: 2.3056395053863525\n",
      "训练的准确率:0.00022\n",
      "训练次数: 43 ,Loss: 2.2985689640045166\n",
      "训练的准确率:0.0002\n",
      "训练次数: 44 ,Loss: 2.2948055267333984\n",
      "训练的准确率:0.00022\n",
      "训练次数: 45 ,Loss: 2.3001554012298584\n",
      "训练的准确率:0.00016\n",
      "训练次数: 46 ,Loss: 2.307584047317505\n",
      "训练的准确率:0.00014\n",
      "训练次数: 47 ,Loss: 2.3109140396118164\n",
      "训练的准确率:0.00012\n",
      "训练次数: 48 ,Loss: 2.298262119293213\n",
      "训练的准确率:0.00016\n",
      "训练次数: 49 ,Loss: 2.2988877296447754\n",
      "训练的准确率:0.00016\n",
      "训练次数: 50 ,Loss: 2.2998297214508057\n",
      "训练的准确率:0.00016\n",
      "训练次数: 51 ,Loss: 2.3059029579162598\n",
      "训练的准确率:0.00012\n"
     ]
    }
   ],
   "metadata": {}
  }
 ],
 "metadata": {
  "orig_nbformat": 4,
  "language_info": {
   "name": "python",
   "version": "3.9.7",
   "mimetype": "text/x-python",
   "codemirror_mode": {
    "name": "ipython",
    "version": 3
   },
   "pygments_lexer": "ipython3",
   "nbconvert_exporter": "python",
   "file_extension": ".py"
  },
  "kernelspec": {
   "name": "python3",
   "display_name": "Python 3.9.7 64-bit ('miniforge3': conda)"
  },
  "interpreter": {
   "hash": "5f56490164663f4b57b37b92c4ec3e50e458ccd27b9658dd2290a539caaefaaa"
  }
 },
 "nbformat": 4,
 "nbformat_minor": 2
}