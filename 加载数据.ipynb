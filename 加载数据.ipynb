{
 "cells": [
  {
   "cell_type": "markdown",
   "source": [
    "# 数据加载\n",
    "<br>\n",
    "\n",
    "## dataset：\n",
    "\n",
    "### dataset提供一种方式去获取数据及其label，\n",
    "<br>\n",
    "\n",
    "## dataloder:\n",
    "\n",
    "\n",
    "### dataloder就相当于将这些数据打个包并提供不同的数据形式"
   ],
   "metadata": {}
  },
  {
   "cell_type": "code",
   "execution_count": 23,
   "source": [
    "import torch as t\n",
    "from torch.utils.data import Dataset\n",
    "from PIL import Image\n",
    "import os"
   ],
   "outputs": [],
   "metadata": {}
  },
  {
   "cell_type": "code",
   "execution_count": 36,
   "source": [
    "#设置数据图像保存的位置\n",
    "dir_path='/Users/lixuecheng/Desktop/Python/pytorch/Dataset/hymenoptera_data/train/ants'\n",
    "#获取该文件夹下的文件列表\n",
    "item_path=os.listdir(dir_path)\n",
    "#获得每个图像的路径\n",
    "img_path=os.path.join(dir_path,item_path[0])\n",
    "#展示image\n",
    "image=Image.open(img_path)\n",
    "\n",
    "# 该文件夹下列表的长度\n",
    "print(\"该文件夹下共有：\" ,len(item_path) , \"个文件\")\n",
    "print(\"里面的内容如下：\",item_path)"
   ],
   "outputs": [
    {
     "output_type": "stream",
     "name": "stdout",
     "text": [
      "该文件夹下共有： 124 个文件\n",
      "里面的内容如下： ['957233405_25c1d1187b.jpg', '2288481644_83ff7e4572.jpg', '67270775_e9fdf77e9d.jpg', '1808777855_2a895621d7.jpg', 'VietnameseAntMimicSpider.jpg', 'swiss-army-ant.jpg', 'termite-vs-ant.jpg', '245647475_9523dfd13e.jpg', '384191229_5779cf591b.jpg', 'hormiga_co_por.jpg', '531979952_bde12b3bc0.jpg', '224655713_3956f7d39a.jpg', '132478121_2a430adea2.jpg', '512863248_43c8ce579b.jpg', '533848102_70a85ad6dd.jpg', '201558278_fe4caecc76.jpg', 'army-ants-red-picture.jpg', 'MehdiabadiAnt2_600.jpg', '334167043_cbd1adaeb9.jpg', '20935278_9190345f6b.jpg', 'imageNotFound.gif', '540889389_48bb588b21.jpg', '466430434_4000737de9.jpg', '649026570_e58656104b.jpg', '196057951_63bf063b92.jpg', '1660097129_384bf54490.jpg', '1286984635_5119e80de1.jpg', '6240329_72c01e663e.jpg', 'Ant_1.jpg', '522163566_fec115ca66.jpg', '0013035.jpg', '24335309_c5ea483bb8.jpg', '150801171_cd86f17ed8.jpg', '403746349_71384f5b58.jpg', '460372577_f2f6a8c9fc.jpg', '386190770_672743c9a7.jpg', '886401651_f878e888cd.jpg', '506249802_207cd979b4.jpg', '841049277_b28e58ad05.jpg', '707895295_009cf23188.jpg', 'Nepenthes_rafflesiana_ant.jpg', '518773929_734dbc5ff4.jpg', '342438950_a3da61deab.jpg', '1368913450_e146e2fb6d.jpg', '49375974_e28ba6f17e.jpg', '822537660_caf4ba5514.jpg', '36439863_0bec9f554f.jpg', '175998972.jpg', '382971067_0bfd33afe0.jpg', '1804095607_0341701e1c.jpg', '188552436_605cc9b36b.jpg', '339670531_94b75ae47a.jpg', '374435068_7eee412ec4.jpg', '1473187633_63ccaacea6.jpg', '258217966_d9d90d18d3.jpg', '150801003_3390b73135.jpg', '1030023514_aad5c608f9.jpg', '2288450226_a6e96e8fdf.jpg', '541630764_dbd285d63c.jpg', '275429470_b2d7d9290b.jpg', '6240338_93729615ec.jpg', '424873399_47658a91fb.jpg', '543417860_b14237f569.jpg', '318052216_84dff3f98a.jpg', '149244013_c529578289.jpg', '1262877379_64fcada201.jpg', '450057712_771b3bfc91.jpg', '662541407_ff8db781e7.jpg', '154124431_65460430f2.jpg', '2019439677_2db655d361.jpg', '1489674356_09d48dde0a.jpg', '892108839_f1aad4ca46.jpg', '522415432_2218f34bf8.jpg', '178538489_bec7649292.jpg', 'ant photos.jpg', '474806473_ca6caab245.jpg', '408393566_b5b694119b.jpg', '2278278459_6b99605e50.jpg', 'formica.jpeg', '1269756697_0bce92cdab.jpg', '2292213964_ca51ce4bef.jpg', '226951206_d6bf946504.jpg', '938946700_ca1c669085.jpg', '2265824718_2c96f485da.jpg', '392382602_1b7bed32fa.jpg', '69639610_95e0de17aa.jpg', '7759525_1363d24e88.jpg', '424119020_6d57481dab.jpg', '162603798_40b51f1654.jpg', '28847243_e79fe052cd.jpg', '998118368_6ac1d91f81.jpg', '6743948_2b8c096dda.jpg', '484293231_e53cfc0c89.jpg', '512164029_c0a66b8498.jpg', '2265825502_fff99cfd2d.jpg', '459694881_ac657d3187.jpg', '1099452230_d1949d3250.jpg', 'kurokusa.jpg', '116570827_e9c126745d.jpg', '167890289_dd5ba923f3.jpg', '1360291657_dc248c5eea.jpg', '460874319_0a45ab4d05.jpg', '45472593_bfd624f8dc.jpg', '207947948_3ab29d7207.jpg', '535522953_308353a07c.jpg', '255434217_1b2b3fe0a4.jpg', '560966032_988f4d7bc4.jpg', '148715752_302c84f5a4.jpg', '470127037_513711fd21.jpg', '9715481_b3cb4114ff.jpg', '684133190_35b62c0c1d.jpg', 'trap-jaw-ant-insect-bg.jpg', '196757565_326437f5fe.jpg', '5650366_e22b7e1065.jpg', '1095476100_3906d8afde.jpg', '1225872729_6f0856588f.jpg', '795000156_a9900a4a71.jpg', '1924473702_daa9aacdbe.jpg', '82852639_52b7f7f5e3.jpg', '1693954099_46d4c20605.jpg', '201790779_527f4c0168.jpg', '475961153_b8c13fd405.jpg', '506249836_717b73f540.jpg', '1917341202_d00a7f9af5.jpg']\n"
     ]
    }
   ],
   "metadata": {}
  },
  {
   "cell_type": "code",
   "execution_count": 26,
   "source": [
    "class Mydata(Dataset):\n",
    "    # 初始化器\n",
    "    def __init__(self,root_dir,label_dir):\n",
    "        self.root_dir=root_dir\n",
    "        self.label_dir=label_dir\n",
    "        #路径结合\n",
    "        self.path=os.path.join(self.root_dir,self.label_dir) \n",
    "        #找到图像对应的文件夹，展示内部列表\n",
    "        self.img_path=os.listdir(self.path)  \n",
    "\n",
    "    # 获取文件\n",
    "    def __getitem__(self,idx):\n",
    "        # 选择需要展示（idx：索引）的图像\n",
    "        img_name=self.img_path[idx]\n",
    "        # 获得images的路径\n",
    "        img_item_path=os.path.join(self.root_dir,self.label_dir,self.img_path)\n",
    "        img=Image.open(img_item_path)\n",
    "        label=self.label_dir\n",
    "        return img,label\n",
    "    \n",
    "    # 返回文件内列表的总数\n",
    "    def __len__(self):\n",
    "        # 返回文件夹下列表的数目\n",
    "        return len(self.img_path)"
   ],
   "outputs": [],
   "metadata": {}
  },
  {
   "cell_type": "code",
   "execution_count": 46,
   "source": [
    "root_dir='Dataset/hymenoptera_data/train'\n",
    "ants_label_dir='ants'\n",
    "bees_label_dir='bees'\n",
    "ants_data=Mydata(root_dir=root_dir,label_dir=ants_label_dir)\n",
    "bees_data=Mydata(root_dir,bees_label_dir)"
   ],
   "outputs": [],
   "metadata": {}
  }
 ],
 "metadata": {
  "orig_nbformat": 4,
  "language_info": {
   "name": "python",
   "version": "3.9.6",
   "mimetype": "text/x-python",
   "codemirror_mode": {
    "name": "ipython",
    "version": 3
   },
   "pygments_lexer": "ipython3",
   "nbconvert_exporter": "python",
   "file_extension": ".py"
  },
  "kernelspec": {
   "name": "python3",
   "display_name": "Python 3.9.6 64-bit ('base': conda)"
  },
  "interpreter": {
   "hash": "a875410d6ae0565ffe07417982a6fcce4d826dde572ed57467e626b4a4d85ed8"
  }
 },
 "nbformat": 4,
 "nbformat_minor": 2
}